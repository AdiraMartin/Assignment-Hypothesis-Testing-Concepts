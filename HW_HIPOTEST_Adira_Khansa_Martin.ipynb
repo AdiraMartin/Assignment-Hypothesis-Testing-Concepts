{
  "cells": [
    {
      "cell_type": "markdown",
      "metadata": {
        "id": "view-in-github",
        "colab_type": "text"
      },
      "source": [
        "<a href=\"https://colab.research.google.com/github/AdiraMartin/Assignment-Hypothesis-Testing-Concepts/blob/main/HW_HIPOTEST_Adira_Khansa_Martin.ipynb\" target=\"_parent\"><img src=\"https://colab.research.google.com/assets/colab-badge.svg\" alt=\"Open In Colab\"/></a>"
      ]
    },
    {
      "cell_type": "code",
      "source": [
        "!gdown --id 1s1Ae0AYxmMAdtQFmMpUNqPRIXlT7s32Q"
      ],
      "metadata": {
        "colab": {
          "base_uri": "https://localhost:8080/"
        },
        "id": "i4OiD7CQs4v6",
        "outputId": "285e2645-f172-4820-b34b-09b16527daed"
      },
      "id": "i4OiD7CQs4v6",
      "execution_count": null,
      "outputs": [
        {
          "output_type": "stream",
          "name": "stdout",
          "text": [
            "/usr/local/lib/python3.8/dist-packages/gdown/cli.py:127: FutureWarning: Option `--id` was deprecated in version 4.3.1 and will be removed in 5.0. You don't need to pass it anymore to use a file ID.\n",
            "  warnings.warn(\n",
            "Downloading...\n",
            "From: https://drive.google.com/uc?id=1s1Ae0AYxmMAdtQFmMpUNqPRIXlT7s32Q\n",
            "To: /content/marketing_campaign.csv\n",
            "100% 235k/235k [00:00<00:00, 88.6MB/s]\n"
          ]
        }
      ]
    },
    {
      "cell_type": "code",
      "execution_count": null,
      "id": "3d9defb5",
      "metadata": {
        "id": "3d9defb5"
      },
      "outputs": [],
      "source": [
        "import pandas as pd\n",
        "import numpy as np\n",
        "import scipy.stats as st"
      ]
    },
    {
      "cell_type": "code",
      "execution_count": null,
      "id": "cbaad00b",
      "metadata": {
        "id": "cbaad00b"
      },
      "outputs": [],
      "source": [
        "df = pd.read_csv('marketing_campaign.csv')"
      ]
    },
    {
      "cell_type": "code",
      "execution_count": null,
      "id": "e74961fc",
      "metadata": {
        "colab": {
          "base_uri": "https://localhost:8080/",
          "height": 505
        },
        "id": "e74961fc",
        "outputId": "6245c742-1d05-475a-f342-8c58c7c419a8"
      },
      "outputs": [
        {
          "output_type": "execute_result",
          "data": {
            "text/plain": [
              "      Unnamed: 0     ID  Year_Birth   Education Marital_Status   Income  \\\n",
              "0              0   5524        1957  Graduation         Single  58138.0   \n",
              "1              1   2174        1954  Graduation         Single  46344.0   \n",
              "2              2   4141        1965  Graduation       Together  71613.0   \n",
              "3              3   6182        1984  Graduation       Together  26646.0   \n",
              "4              4   5324        1981         PhD        Married  58293.0   \n",
              "...          ...    ...         ...         ...            ...      ...   \n",
              "2235        2235  10870        1967  Graduation        Married  61223.0   \n",
              "2236        2236   4001        1946         PhD       Together  64014.0   \n",
              "2237        2237   7270        1981  Graduation       Divorced  56981.0   \n",
              "2238        2238   8235        1956      Master       Together  69245.0   \n",
              "2239        2239   9405        1954         PhD        Married  52869.0   \n",
              "\n",
              "      Kidhome  Teenhome Dt_Customer  Recency  ...  NumWebVisitsMonth  \\\n",
              "0           0         0  2012-09-04       58  ...                  7   \n",
              "1           1         1  2014-03-08       38  ...                  5   \n",
              "2           0         0  2013-08-21       26  ...                  4   \n",
              "3           1         0  2014-02-10       26  ...                  6   \n",
              "4           1         0  2014-01-19       94  ...                  5   \n",
              "...       ...       ...         ...      ...  ...                ...   \n",
              "2235        0         1  2013-06-13       46  ...                  5   \n",
              "2236        2         1  2014-06-10       56  ...                  7   \n",
              "2237        0         0  2014-01-25       91  ...                  6   \n",
              "2238        0         1  2014-01-24        8  ...                  3   \n",
              "2239        1         1  2012-10-15       40  ...                  7   \n",
              "\n",
              "      AcceptedCmp3  AcceptedCmp4  AcceptedCmp5  AcceptedCmp1  AcceptedCmp2  \\\n",
              "0                0             0             0             0             0   \n",
              "1                0             0             0             0             0   \n",
              "2                0             0             0             0             0   \n",
              "3                0             0             0             0             0   \n",
              "4                0             0             0             0             0   \n",
              "...            ...           ...           ...           ...           ...   \n",
              "2235             0             0             0             0             0   \n",
              "2236             0             0             0             1             0   \n",
              "2237             0             1             0             0             0   \n",
              "2238             0             0             0             0             0   \n",
              "2239             0             0             0             0             0   \n",
              "\n",
              "      Complain  Z_CostContact  Z_Revenue  Response  \n",
              "0            0              3         11         1  \n",
              "1            0              3         11         0  \n",
              "2            0              3         11         0  \n",
              "3            0              3         11         0  \n",
              "4            0              3         11         0  \n",
              "...        ...            ...        ...       ...  \n",
              "2235         0              3         11         0  \n",
              "2236         0              3         11         0  \n",
              "2237         0              3         11         0  \n",
              "2238         0              3         11         0  \n",
              "2239         0              3         11         1  \n",
              "\n",
              "[2240 rows x 30 columns]"
            ],
            "text/html": [
              "\n",
              "  <div id=\"df-b339cea5-286f-429e-a6ba-136f6d5c3baa\">\n",
              "    <div class=\"colab-df-container\">\n",
              "      <div>\n",
              "<style scoped>\n",
              "    .dataframe tbody tr th:only-of-type {\n",
              "        vertical-align: middle;\n",
              "    }\n",
              "\n",
              "    .dataframe tbody tr th {\n",
              "        vertical-align: top;\n",
              "    }\n",
              "\n",
              "    .dataframe thead th {\n",
              "        text-align: right;\n",
              "    }\n",
              "</style>\n",
              "<table border=\"1\" class=\"dataframe\">\n",
              "  <thead>\n",
              "    <tr style=\"text-align: right;\">\n",
              "      <th></th>\n",
              "      <th>Unnamed: 0</th>\n",
              "      <th>ID</th>\n",
              "      <th>Year_Birth</th>\n",
              "      <th>Education</th>\n",
              "      <th>Marital_Status</th>\n",
              "      <th>Income</th>\n",
              "      <th>Kidhome</th>\n",
              "      <th>Teenhome</th>\n",
              "      <th>Dt_Customer</th>\n",
              "      <th>Recency</th>\n",
              "      <th>...</th>\n",
              "      <th>NumWebVisitsMonth</th>\n",
              "      <th>AcceptedCmp3</th>\n",
              "      <th>AcceptedCmp4</th>\n",
              "      <th>AcceptedCmp5</th>\n",
              "      <th>AcceptedCmp1</th>\n",
              "      <th>AcceptedCmp2</th>\n",
              "      <th>Complain</th>\n",
              "      <th>Z_CostContact</th>\n",
              "      <th>Z_Revenue</th>\n",
              "      <th>Response</th>\n",
              "    </tr>\n",
              "  </thead>\n",
              "  <tbody>\n",
              "    <tr>\n",
              "      <th>0</th>\n",
              "      <td>0</td>\n",
              "      <td>5524</td>\n",
              "      <td>1957</td>\n",
              "      <td>Graduation</td>\n",
              "      <td>Single</td>\n",
              "      <td>58138.0</td>\n",
              "      <td>0</td>\n",
              "      <td>0</td>\n",
              "      <td>2012-09-04</td>\n",
              "      <td>58</td>\n",
              "      <td>...</td>\n",
              "      <td>7</td>\n",
              "      <td>0</td>\n",
              "      <td>0</td>\n",
              "      <td>0</td>\n",
              "      <td>0</td>\n",
              "      <td>0</td>\n",
              "      <td>0</td>\n",
              "      <td>3</td>\n",
              "      <td>11</td>\n",
              "      <td>1</td>\n",
              "    </tr>\n",
              "    <tr>\n",
              "      <th>1</th>\n",
              "      <td>1</td>\n",
              "      <td>2174</td>\n",
              "      <td>1954</td>\n",
              "      <td>Graduation</td>\n",
              "      <td>Single</td>\n",
              "      <td>46344.0</td>\n",
              "      <td>1</td>\n",
              "      <td>1</td>\n",
              "      <td>2014-03-08</td>\n",
              "      <td>38</td>\n",
              "      <td>...</td>\n",
              "      <td>5</td>\n",
              "      <td>0</td>\n",
              "      <td>0</td>\n",
              "      <td>0</td>\n",
              "      <td>0</td>\n",
              "      <td>0</td>\n",
              "      <td>0</td>\n",
              "      <td>3</td>\n",
              "      <td>11</td>\n",
              "      <td>0</td>\n",
              "    </tr>\n",
              "    <tr>\n",
              "      <th>2</th>\n",
              "      <td>2</td>\n",
              "      <td>4141</td>\n",
              "      <td>1965</td>\n",
              "      <td>Graduation</td>\n",
              "      <td>Together</td>\n",
              "      <td>71613.0</td>\n",
              "      <td>0</td>\n",
              "      <td>0</td>\n",
              "      <td>2013-08-21</td>\n",
              "      <td>26</td>\n",
              "      <td>...</td>\n",
              "      <td>4</td>\n",
              "      <td>0</td>\n",
              "      <td>0</td>\n",
              "      <td>0</td>\n",
              "      <td>0</td>\n",
              "      <td>0</td>\n",
              "      <td>0</td>\n",
              "      <td>3</td>\n",
              "      <td>11</td>\n",
              "      <td>0</td>\n",
              "    </tr>\n",
              "    <tr>\n",
              "      <th>3</th>\n",
              "      <td>3</td>\n",
              "      <td>6182</td>\n",
              "      <td>1984</td>\n",
              "      <td>Graduation</td>\n",
              "      <td>Together</td>\n",
              "      <td>26646.0</td>\n",
              "      <td>1</td>\n",
              "      <td>0</td>\n",
              "      <td>2014-02-10</td>\n",
              "      <td>26</td>\n",
              "      <td>...</td>\n",
              "      <td>6</td>\n",
              "      <td>0</td>\n",
              "      <td>0</td>\n",
              "      <td>0</td>\n",
              "      <td>0</td>\n",
              "      <td>0</td>\n",
              "      <td>0</td>\n",
              "      <td>3</td>\n",
              "      <td>11</td>\n",
              "      <td>0</td>\n",
              "    </tr>\n",
              "    <tr>\n",
              "      <th>4</th>\n",
              "      <td>4</td>\n",
              "      <td>5324</td>\n",
              "      <td>1981</td>\n",
              "      <td>PhD</td>\n",
              "      <td>Married</td>\n",
              "      <td>58293.0</td>\n",
              "      <td>1</td>\n",
              "      <td>0</td>\n",
              "      <td>2014-01-19</td>\n",
              "      <td>94</td>\n",
              "      <td>...</td>\n",
              "      <td>5</td>\n",
              "      <td>0</td>\n",
              "      <td>0</td>\n",
              "      <td>0</td>\n",
              "      <td>0</td>\n",
              "      <td>0</td>\n",
              "      <td>0</td>\n",
              "      <td>3</td>\n",
              "      <td>11</td>\n",
              "      <td>0</td>\n",
              "    </tr>\n",
              "    <tr>\n",
              "      <th>...</th>\n",
              "      <td>...</td>\n",
              "      <td>...</td>\n",
              "      <td>...</td>\n",
              "      <td>...</td>\n",
              "      <td>...</td>\n",
              "      <td>...</td>\n",
              "      <td>...</td>\n",
              "      <td>...</td>\n",
              "      <td>...</td>\n",
              "      <td>...</td>\n",
              "      <td>...</td>\n",
              "      <td>...</td>\n",
              "      <td>...</td>\n",
              "      <td>...</td>\n",
              "      <td>...</td>\n",
              "      <td>...</td>\n",
              "      <td>...</td>\n",
              "      <td>...</td>\n",
              "      <td>...</td>\n",
              "      <td>...</td>\n",
              "      <td>...</td>\n",
              "    </tr>\n",
              "    <tr>\n",
              "      <th>2235</th>\n",
              "      <td>2235</td>\n",
              "      <td>10870</td>\n",
              "      <td>1967</td>\n",
              "      <td>Graduation</td>\n",
              "      <td>Married</td>\n",
              "      <td>61223.0</td>\n",
              "      <td>0</td>\n",
              "      <td>1</td>\n",
              "      <td>2013-06-13</td>\n",
              "      <td>46</td>\n",
              "      <td>...</td>\n",
              "      <td>5</td>\n",
              "      <td>0</td>\n",
              "      <td>0</td>\n",
              "      <td>0</td>\n",
              "      <td>0</td>\n",
              "      <td>0</td>\n",
              "      <td>0</td>\n",
              "      <td>3</td>\n",
              "      <td>11</td>\n",
              "      <td>0</td>\n",
              "    </tr>\n",
              "    <tr>\n",
              "      <th>2236</th>\n",
              "      <td>2236</td>\n",
              "      <td>4001</td>\n",
              "      <td>1946</td>\n",
              "      <td>PhD</td>\n",
              "      <td>Together</td>\n",
              "      <td>64014.0</td>\n",
              "      <td>2</td>\n",
              "      <td>1</td>\n",
              "      <td>2014-06-10</td>\n",
              "      <td>56</td>\n",
              "      <td>...</td>\n",
              "      <td>7</td>\n",
              "      <td>0</td>\n",
              "      <td>0</td>\n",
              "      <td>0</td>\n",
              "      <td>1</td>\n",
              "      <td>0</td>\n",
              "      <td>0</td>\n",
              "      <td>3</td>\n",
              "      <td>11</td>\n",
              "      <td>0</td>\n",
              "    </tr>\n",
              "    <tr>\n",
              "      <th>2237</th>\n",
              "      <td>2237</td>\n",
              "      <td>7270</td>\n",
              "      <td>1981</td>\n",
              "      <td>Graduation</td>\n",
              "      <td>Divorced</td>\n",
              "      <td>56981.0</td>\n",
              "      <td>0</td>\n",
              "      <td>0</td>\n",
              "      <td>2014-01-25</td>\n",
              "      <td>91</td>\n",
              "      <td>...</td>\n",
              "      <td>6</td>\n",
              "      <td>0</td>\n",
              "      <td>1</td>\n",
              "      <td>0</td>\n",
              "      <td>0</td>\n",
              "      <td>0</td>\n",
              "      <td>0</td>\n",
              "      <td>3</td>\n",
              "      <td>11</td>\n",
              "      <td>0</td>\n",
              "    </tr>\n",
              "    <tr>\n",
              "      <th>2238</th>\n",
              "      <td>2238</td>\n",
              "      <td>8235</td>\n",
              "      <td>1956</td>\n",
              "      <td>Master</td>\n",
              "      <td>Together</td>\n",
              "      <td>69245.0</td>\n",
              "      <td>0</td>\n",
              "      <td>1</td>\n",
              "      <td>2014-01-24</td>\n",
              "      <td>8</td>\n",
              "      <td>...</td>\n",
              "      <td>3</td>\n",
              "      <td>0</td>\n",
              "      <td>0</td>\n",
              "      <td>0</td>\n",
              "      <td>0</td>\n",
              "      <td>0</td>\n",
              "      <td>0</td>\n",
              "      <td>3</td>\n",
              "      <td>11</td>\n",
              "      <td>0</td>\n",
              "    </tr>\n",
              "    <tr>\n",
              "      <th>2239</th>\n",
              "      <td>2239</td>\n",
              "      <td>9405</td>\n",
              "      <td>1954</td>\n",
              "      <td>PhD</td>\n",
              "      <td>Married</td>\n",
              "      <td>52869.0</td>\n",
              "      <td>1</td>\n",
              "      <td>1</td>\n",
              "      <td>2012-10-15</td>\n",
              "      <td>40</td>\n",
              "      <td>...</td>\n",
              "      <td>7</td>\n",
              "      <td>0</td>\n",
              "      <td>0</td>\n",
              "      <td>0</td>\n",
              "      <td>0</td>\n",
              "      <td>0</td>\n",
              "      <td>0</td>\n",
              "      <td>3</td>\n",
              "      <td>11</td>\n",
              "      <td>1</td>\n",
              "    </tr>\n",
              "  </tbody>\n",
              "</table>\n",
              "<p>2240 rows × 30 columns</p>\n",
              "</div>\n",
              "      <button class=\"colab-df-convert\" onclick=\"convertToInteractive('df-b339cea5-286f-429e-a6ba-136f6d5c3baa')\"\n",
              "              title=\"Convert this dataframe to an interactive table.\"\n",
              "              style=\"display:none;\">\n",
              "        \n",
              "  <svg xmlns=\"http://www.w3.org/2000/svg\" height=\"24px\"viewBox=\"0 0 24 24\"\n",
              "       width=\"24px\">\n",
              "    <path d=\"M0 0h24v24H0V0z\" fill=\"none\"/>\n",
              "    <path d=\"M18.56 5.44l.94 2.06.94-2.06 2.06-.94-2.06-.94-.94-2.06-.94 2.06-2.06.94zm-11 1L8.5 8.5l.94-2.06 2.06-.94-2.06-.94L8.5 2.5l-.94 2.06-2.06.94zm10 10l.94 2.06.94-2.06 2.06-.94-2.06-.94-.94-2.06-.94 2.06-2.06.94z\"/><path d=\"M17.41 7.96l-1.37-1.37c-.4-.4-.92-.59-1.43-.59-.52 0-1.04.2-1.43.59L10.3 9.45l-7.72 7.72c-.78.78-.78 2.05 0 2.83L4 21.41c.39.39.9.59 1.41.59.51 0 1.02-.2 1.41-.59l7.78-7.78 2.81-2.81c.8-.78.8-2.07 0-2.86zM5.41 20L4 18.59l7.72-7.72 1.47 1.35L5.41 20z\"/>\n",
              "  </svg>\n",
              "      </button>\n",
              "      \n",
              "  <style>\n",
              "    .colab-df-container {\n",
              "      display:flex;\n",
              "      flex-wrap:wrap;\n",
              "      gap: 12px;\n",
              "    }\n",
              "\n",
              "    .colab-df-convert {\n",
              "      background-color: #E8F0FE;\n",
              "      border: none;\n",
              "      border-radius: 50%;\n",
              "      cursor: pointer;\n",
              "      display: none;\n",
              "      fill: #1967D2;\n",
              "      height: 32px;\n",
              "      padding: 0 0 0 0;\n",
              "      width: 32px;\n",
              "    }\n",
              "\n",
              "    .colab-df-convert:hover {\n",
              "      background-color: #E2EBFA;\n",
              "      box-shadow: 0px 1px 2px rgba(60, 64, 67, 0.3), 0px 1px 3px 1px rgba(60, 64, 67, 0.15);\n",
              "      fill: #174EA6;\n",
              "    }\n",
              "\n",
              "    [theme=dark] .colab-df-convert {\n",
              "      background-color: #3B4455;\n",
              "      fill: #D2E3FC;\n",
              "    }\n",
              "\n",
              "    [theme=dark] .colab-df-convert:hover {\n",
              "      background-color: #434B5C;\n",
              "      box-shadow: 0px 1px 3px 1px rgba(0, 0, 0, 0.15);\n",
              "      filter: drop-shadow(0px 1px 2px rgba(0, 0, 0, 0.3));\n",
              "      fill: #FFFFFF;\n",
              "    }\n",
              "  </style>\n",
              "\n",
              "      <script>\n",
              "        const buttonEl =\n",
              "          document.querySelector('#df-b339cea5-286f-429e-a6ba-136f6d5c3baa button.colab-df-convert');\n",
              "        buttonEl.style.display =\n",
              "          google.colab.kernel.accessAllowed ? 'block' : 'none';\n",
              "\n",
              "        async function convertToInteractive(key) {\n",
              "          const element = document.querySelector('#df-b339cea5-286f-429e-a6ba-136f6d5c3baa');\n",
              "          const dataTable =\n",
              "            await google.colab.kernel.invokeFunction('convertToInteractive',\n",
              "                                                     [key], {});\n",
              "          if (!dataTable) return;\n",
              "\n",
              "          const docLinkHtml = 'Like what you see? Visit the ' +\n",
              "            '<a target=\"_blank\" href=https://colab.research.google.com/notebooks/data_table.ipynb>data table notebook</a>'\n",
              "            + ' to learn more about interactive tables.';\n",
              "          element.innerHTML = '';\n",
              "          dataTable['output_type'] = 'display_data';\n",
              "          await google.colab.output.renderOutput(dataTable, element);\n",
              "          const docLink = document.createElement('div');\n",
              "          docLink.innerHTML = docLinkHtml;\n",
              "          element.appendChild(docLink);\n",
              "        }\n",
              "      </script>\n",
              "    </div>\n",
              "  </div>\n",
              "  "
            ]
          },
          "metadata": {},
          "execution_count": 4
        }
      ],
      "source": [
        "df"
      ]
    },
    {
      "cell_type": "markdown",
      "id": "f2844cc1",
      "metadata": {
        "id": "f2844cc1"
      },
      "source": [
        "Education level:\n",
        " - Basic\n",
        " - 2nd Cycle\n",
        " - Graduation\n",
        " - Master\n",
        " - PHd"
      ]
    },
    {
      "cell_type": "code",
      "execution_count": null,
      "id": "9e5ca2a6",
      "metadata": {
        "id": "9e5ca2a6"
      },
      "outputs": [],
      "source": [
        "df_copy = df.copy()"
      ]
    },
    {
      "cell_type": "code",
      "execution_count": null,
      "id": "d164b8ed",
      "metadata": {
        "id": "d164b8ed"
      },
      "outputs": [],
      "source": [
        "df_copy = df_copy[~df_copy['Income'].isnull()].reset_index(drop = True)"
      ]
    },
    {
      "cell_type": "markdown",
      "id": "2a0103f8",
      "metadata": {
        "id": "2a0103f8"
      },
      "source": [
        "# Case :"
      ]
    },
    {
      "cell_type": "markdown",
      "id": "40c9cca7",
      "metadata": {
        "id": "40c9cca7"
      },
      "source": [
        "Pengujian hipotesis untuk membuktikan apakah education berpengaruh terhadap income atau tidak"
      ]
    },
    {
      "cell_type": "markdown",
      "id": "c07f1fee",
      "metadata": {
        "id": "c07f1fee"
      },
      "source": [
        "**H0** : Level education tidak bisa membedakan income <br>\n",
        "**H1** : Level education bisa membedakan income"
      ]
    },
    {
      "cell_type": "code",
      "execution_count": null,
      "id": "de68159f",
      "metadata": {
        "id": "de68159f"
      },
      "outputs": [],
      "source": [
        "df2_basic = df_copy[df_copy['Education'] == 'Basic' ]\n",
        "df2_Graduation = df_copy[df_copy['Education'] == 'Graduation']\n",
        "df2_2nCycle = df_copy[df_copy['Education'] == '2n Cycle']\n",
        "df2_Master = df_copy[df_copy['Education'] == 'Master']\n",
        "df2_PhD = df_copy[df_copy['Education'] == 'PhD']"
      ]
    },
    {
      "cell_type": "code",
      "execution_count": null,
      "id": "52ba06be",
      "metadata": {
        "id": "52ba06be"
      },
      "outputs": [],
      "source": [
        "anova_test = st.f_oneway(df2_basic['Income'],\n",
        "                        df2_Graduation['Income'],\n",
        "                        df2_2nCycle['Income'],\n",
        "                        df2_Master['Income'],\n",
        "                        df2_PhD['Income']\n",
        "                        )"
      ]
    },
    {
      "cell_type": "markdown",
      "id": "1af1ae04",
      "metadata": {
        "id": "1af1ae04"
      },
      "source": [
        "### Result"
      ]
    },
    {
      "cell_type": "markdown",
      "id": "62ae49fa",
      "metadata": {
        "id": "62ae49fa"
      },
      "source": [
        "α = 0.05"
      ]
    },
    {
      "cell_type": "code",
      "execution_count": null,
      "id": "a92bb3f8",
      "metadata": {
        "id": "a92bb3f8",
        "outputId": "97a92680-a613-4780-b294-e5833cbc5a07"
      },
      "outputs": [
        {
          "name": "stdout",
          "output_type": "stream",
          "text": [
            "p-value      : 1.6677281316366318e-22\n",
            "f-statistics : 27.739182352348212\n"
          ]
        }
      ],
      "source": [
        "print(f'p-value      : {anova_test.pvalue}')\n",
        "print(f'f-statistics : {anova_test.statistic}')"
      ]
    },
    {
      "cell_type": "code",
      "execution_count": null,
      "id": "1a7daa5e",
      "metadata": {
        "id": "1a7daa5e",
        "outputId": "201e6f32-d228-4508-be48-84663bd45c92"
      },
      "outputs": [
        {
          "name": "stdout",
          "output_type": "stream",
          "text": [
            "H0 ditolak & H1 diterima : Level Education memiliki rata-rata Income yang berbeda signifikan\n"
          ]
        }
      ],
      "source": [
        "if anova_test.pvalue > 0.05:\n",
        "    print('H0 diterima & H1 ditolak : Level Education memiliki rata-rata Income yang sama')\n",
        "else:\n",
        "    print('H0 ditolak & H1 diterima : Level Education memiliki rata-rata Income yang berbeda signifikan')"
      ]
    },
    {
      "cell_type": "markdown",
      "id": "e2be24e5",
      "metadata": {
        "id": "e2be24e5"
      },
      "source": [
        "Terbukti tingkatan education bisa membedakan income sehingga education dapat bepengaruh terhadap income"
      ]
    },
    {
      "cell_type": "code",
      "execution_count": null,
      "id": "366bea15",
      "metadata": {
        "id": "366bea15",
        "outputId": "0a6c0531-311b-4c9c-9cb5-818ab928c0fc"
      },
      "outputs": [
        {
          "data": {
            "text/html": [
              "<div>\n",
              "<style scoped>\n",
              "    .dataframe tbody tr th:only-of-type {\n",
              "        vertical-align: middle;\n",
              "    }\n",
              "\n",
              "    .dataframe tbody tr th {\n",
              "        vertical-align: top;\n",
              "    }\n",
              "\n",
              "    .dataframe thead th {\n",
              "        text-align: right;\n",
              "    }\n",
              "</style>\n",
              "<table border=\"1\" class=\"dataframe\">\n",
              "  <thead>\n",
              "    <tr style=\"text-align: right;\">\n",
              "      <th></th>\n",
              "      <th>count</th>\n",
              "      <th>mean</th>\n",
              "      <th>std</th>\n",
              "      <th>min</th>\n",
              "      <th>25%</th>\n",
              "      <th>50%</th>\n",
              "      <th>75%</th>\n",
              "      <th>max</th>\n",
              "    </tr>\n",
              "    <tr>\n",
              "      <th>Education</th>\n",
              "      <th></th>\n",
              "      <th></th>\n",
              "      <th></th>\n",
              "      <th></th>\n",
              "      <th></th>\n",
              "      <th></th>\n",
              "      <th></th>\n",
              "      <th></th>\n",
              "    </tr>\n",
              "  </thead>\n",
              "  <tbody>\n",
              "    <tr>\n",
              "      <th>2n Cycle</th>\n",
              "      <td>200.0</td>\n",
              "      <td>47633.190000</td>\n",
              "      <td>22119.081838</td>\n",
              "      <td>7500.0</td>\n",
              "      <td>27526.50</td>\n",
              "      <td>46805.0</td>\n",
              "      <td>65393.25</td>\n",
              "      <td>96547.0</td>\n",
              "    </tr>\n",
              "    <tr>\n",
              "      <th>Basic</th>\n",
              "      <td>54.0</td>\n",
              "      <td>20306.259259</td>\n",
              "      <td>6235.066773</td>\n",
              "      <td>7500.0</td>\n",
              "      <td>15405.25</td>\n",
              "      <td>20744.0</td>\n",
              "      <td>24882.00</td>\n",
              "      <td>34445.0</td>\n",
              "    </tr>\n",
              "    <tr>\n",
              "      <th>Graduation</th>\n",
              "      <td>1116.0</td>\n",
              "      <td>52720.373656</td>\n",
              "      <td>28177.192681</td>\n",
              "      <td>1730.0</td>\n",
              "      <td>34834.50</td>\n",
              "      <td>52028.5</td>\n",
              "      <td>69930.50</td>\n",
              "      <td>666666.0</td>\n",
              "    </tr>\n",
              "    <tr>\n",
              "      <th>Master</th>\n",
              "      <td>365.0</td>\n",
              "      <td>52917.534247</td>\n",
              "      <td>20157.788029</td>\n",
              "      <td>6560.0</td>\n",
              "      <td>37760.00</td>\n",
              "      <td>50943.0</td>\n",
              "      <td>66726.00</td>\n",
              "      <td>157733.0</td>\n",
              "    </tr>\n",
              "    <tr>\n",
              "      <th>PhD</th>\n",
              "      <td>481.0</td>\n",
              "      <td>56145.313929</td>\n",
              "      <td>20612.979997</td>\n",
              "      <td>4023.0</td>\n",
              "      <td>40451.00</td>\n",
              "      <td>55212.0</td>\n",
              "      <td>69098.00</td>\n",
              "      <td>162397.0</td>\n",
              "    </tr>\n",
              "  </tbody>\n",
              "</table>\n",
              "</div>"
            ],
            "text/plain": [
              "             count          mean           std     min       25%      50%  \\\n",
              "Education                                                                   \n",
              "2n Cycle     200.0  47633.190000  22119.081838  7500.0  27526.50  46805.0   \n",
              "Basic         54.0  20306.259259   6235.066773  7500.0  15405.25  20744.0   \n",
              "Graduation  1116.0  52720.373656  28177.192681  1730.0  34834.50  52028.5   \n",
              "Master       365.0  52917.534247  20157.788029  6560.0  37760.00  50943.0   \n",
              "PhD          481.0  56145.313929  20612.979997  4023.0  40451.00  55212.0   \n",
              "\n",
              "                 75%       max  \n",
              "Education                       \n",
              "2n Cycle    65393.25   96547.0  \n",
              "Basic       24882.00   34445.0  \n",
              "Graduation  69930.50  666666.0  \n",
              "Master      66726.00  157733.0  \n",
              "PhD         69098.00  162397.0  "
            ]
          },
          "execution_count": 190,
          "metadata": {},
          "output_type": "execute_result"
        }
      ],
      "source": [
        "df_copy.groupby(['Education'])['Income'].describe()"
      ]
    },
    {
      "cell_type": "markdown",
      "id": "011783f4",
      "metadata": {
        "id": "011783f4"
      },
      "source": [
        "Terlihat rata rata pemasukan (Income) dari tiap level pendidikan (Education) memiliki perbedaan dengan tingkatan level pendidikan tertinggi (PhD) memiliki pemasukan terbesar dan tingkatan level pendidikan terendah (basic) memiliki pemasukan terendah."
      ]
    },
    {
      "cell_type": "code",
      "execution_count": null,
      "id": "6d475018",
      "metadata": {
        "id": "6d475018"
      },
      "outputs": [],
      "source": []
    }
  ],
  "metadata": {
    "kernelspec": {
      "display_name": "Python 3 (ipykernel)",
      "language": "python",
      "name": "python3"
    },
    "language_info": {
      "codemirror_mode": {
        "name": "ipython",
        "version": 3
      },
      "file_extension": ".py",
      "mimetype": "text/x-python",
      "name": "python",
      "nbconvert_exporter": "python",
      "pygments_lexer": "ipython3",
      "version": "3.9.13"
    },
    "colab": {
      "provenance": [],
      "include_colab_link": true
    }
  },
  "nbformat": 4,
  "nbformat_minor": 5
}